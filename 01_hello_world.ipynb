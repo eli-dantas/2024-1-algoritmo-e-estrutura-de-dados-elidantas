{
  "nbformat": 4,
  "nbformat_minor": 0,
  "metadata": {
    "colab": {
      "provenance": [],
      "authorship_tag": "ABX9TyOIcDnEbwl6hGBJGKwFMGia",
      "include_colab_link": true
    },
    "kernelspec": {
      "name": "python3",
      "display_name": "Python 3"
    },
    "language_info": {
      "name": "python"
    }
  },
  "cells": [
    {
      "cell_type": "markdown",
      "metadata": {
        "id": "view-in-github",
        "colab_type": "text"
      },
      "source": [
        "<a href=\"https://colab.research.google.com/github/eli-dantas/2024-1-algoritmo-e-estrutura-de-dados-elidantas/blob/main/01_hello_world.ipynb\" target=\"_parent\"><img src=\"https://colab.research.google.com/assets/colab-badge.svg\" alt=\"Open In Colab\"/></a>"
      ]
    },
    {
      "cell_type": "markdown",
      "source": [
        "Meu primeiro programa"
      ],
      "metadata": {
        "id": "y6xCWq3EdxG-"
      }
    },
    {
      "cell_type": "code",
      "source": [
        "#imprime \"hello, world\" na tela\n",
        "print(\"hello, world\")"
      ],
      "metadata": {
        "colab": {
          "base_uri": "https://localhost:8080/"
        },
        "id": "axLsO0SHd2KO",
        "outputId": "60527c1a-6e49-4034-b5a1-8da469adb4ec"
      },
      "execution_count": null,
      "outputs": [
        {
          "output_type": "stream",
          "name": "stdout",
          "text": [
            "hello world\n"
          ]
        }
      ]
    },
    {
      "cell_type": "code",
      "source": [
        "#variáveis em python\n",
        "\n",
        "#atribui a string a variável message\n",
        "message = \"hello, world\"\n",
        "#imprimir o conteúdo da variável message\n",
        "print(message)"
      ],
      "metadata": {
        "colab": {
          "base_uri": "https://localhost:8080/"
        },
        "id": "DG1w7tMHogVS",
        "outputId": "a1392fba-09d1-419e-b3d8-66ac91c5e98c"
      },
      "execution_count": 3,
      "outputs": [
        {
          "output_type": "stream",
          "name": "stdout",
          "text": [
            "hello, world\n"
          ]
        }
      ]
    },
    {
      "cell_type": "code",
      "source": [
        "#entrada de dados do usuário\n",
        "#solicitar ao usuário que insira seu nome\n",
        "nome = input(\"Qual seu nome?\")\n",
        "print(\"Olá, \" + nome + \"!\")"
      ],
      "metadata": {
        "colab": {
          "base_uri": "https://localhost:8080/"
        },
        "id": "MPNcP3JRt3I4",
        "outputId": "9b6ed33f-1e85-42d7-f8b7-1ba0bfef3822"
      },
      "execution_count": 5,
      "outputs": [
        {
          "output_type": "stream",
          "name": "stdout",
          "text": [
            "Qual seu nome?Eli\n",
            "Olá, Eli!\n"
          ]
        }
      ]
    }
  ]
}