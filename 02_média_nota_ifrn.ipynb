{
  "nbformat": 4,
  "nbformat_minor": 0,
  "metadata": {
    "colab": {
      "provenance": [],
      "authorship_tag": "ABX9TyM1T0EyGvdHPEwsb1KOv0Y8",
      "include_colab_link": true
    },
    "kernelspec": {
      "name": "python3",
      "display_name": "Python 3"
    },
    "language_info": {
      "name": "python"
    }
  },
  "cells": [
    {
      "cell_type": "markdown",
      "metadata": {
        "id": "view-in-github",
        "colab_type": "text"
      },
      "source": [
        "<a href=\"https://colab.research.google.com/github/eli-dantas/2024-1-algoritmo-e-estrutura-de-dados-elidantas/blob/main/02_m%C3%A9dia_nota_ifrn.ipynb\" target=\"_parent\"><img src=\"https://colab.research.google.com/assets/colab-badge.svg\" alt=\"Open In Colab\"/></a>"
      ]
    },
    {
      "cell_type": "markdown",
      "source": [
        "Calculadora de média ponderada IFRN"
      ],
      "metadata": {
        "id": "4pUs2gG1xZm-"
      }
    },
    {
      "cell_type": "code",
      "source": [],
      "metadata": {
        "id": "BHLY1xSnbSgy"
      },
      "execution_count": null,
      "outputs": []
    },
    {
      "cell_type": "code",
      "source": [
        "print(\"Calculadora de média ponderada do IFRN\")\n",
        "\n",
        "#Perguntando, para quantos alunos, desejo calcular a média\n",
        "num_alunos = int(input(\"Digite o número de alunos: \"))\n",
        "\n",
        "for aluno in range(1, num_alunos+1):\n",
        "#Imprima o número do aluno da vez\n",
        "print(f\"\\Aluno \" + {aluno})\n",
        "\n",
        "  #Float, tipagem explícita, para garantir número fracionário\n",
        "  n1 = float( input(\"Digite a nota 1(com peso 2): \") )\n",
        "  n2 = float( input(\"Digite a nota 2(com peso 3): \") )\n",
        "\n",
        "\n",
        "  #calculo de media ponderada\n",
        "  media = (n1 * 2 + n2 * 3) / 5\n",
        "\n",
        "  #impressão da média\n",
        "  print(f\"A média ponderada das notas é: {media:.2f}\")\n",
        "\n",
        "  #apresentar se o aluno foi aprovado ou não\n",
        "  if media >= 6:\n",
        "    print(\"Aprovado\")\n",
        "  else:\n",
        "    if n1 >= 4 and n2 >= 4:\n",
        "      print(\"Prova final\")\n",
        "    else:\n",
        "      print(\"Reprovado\")\n",
        "\n"
      ],
      "metadata": {
        "colab": {
          "base_uri": "https://localhost:8080/"
        },
        "id": "5DnQChZexfNH",
        "outputId": "c2dde098-caf9-4acc-9ebf-c6b517e11cd8"
      },
      "execution_count": null,
      "outputs": [
        {
          "output_type": "stream",
          "name": "stdout",
          "text": [
            "Calculadora de média ponderada do IFRN\n"
          ]
        }
      ]
    }
  ]
}