{
  "nbformat": 4,
  "nbformat_minor": 0,
  "metadata": {
    "colab": {
      "provenance": [],
      "authorship_tag": "ABX9TyPQhfCN+Ppi+TCil0F2j3ht",
      "include_colab_link": true
    },
    "kernelspec": {
      "name": "python3",
      "display_name": "Python 3"
    },
    "language_info": {
      "name": "python"
    }
  },
  "cells": [
    {
      "cell_type": "markdown",
      "metadata": {
        "id": "view-in-github",
        "colab_type": "text"
      },
      "source": [
        "<a href=\"https://colab.research.google.com/github/eli-dantas/2024-1-algoritmo-e-estrutura-de-dados-elidantas/blob/main/02_m%C3%A9dia_nota_ifrn.ipynb\" target=\"_parent\"><img src=\"https://colab.research.google.com/assets/colab-badge.svg\" alt=\"Open In Colab\"/></a>"
      ]
    },
    {
      "cell_type": "markdown",
      "source": [
        "Calculadora de média ponderada IFRN"
      ],
      "metadata": {
        "id": "4pUs2gG1xZm-"
      }
    },
    {
      "cell_type": "code",
      "source": [
        "print(\"Calculadora de média ponderada do IFRN\")\n",
        "#float, tipagem explícita, para garantir número fracionário\n",
        "n1 = float(input(\"Digite a nota 1(com peso 2):\"))\n",
        "n2 = float(input(\"Digite a nota 2(com peso 3):\"))\n",
        "\n",
        "#cálculo da média ponderada\n",
        "media=(n1 * 2 + n2 * 3) / 5\n",
        "\n",
        "#impressão da média\n",
        "print(f\"A média ponderada das notas é: {media:.2f}\")\n",
        "\n",
        "#impressão sem formatação\n",
        "print(\"A média ponderada das notas é: \", media)"
      ],
      "metadata": {
        "colab": {
          "base_uri": "https://localhost:8080/"
        },
        "id": "5DnQChZexfNH",
        "outputId": "d6bbc4d3-1322-4ce0-c9f6-8542d34fc2a9"
      },
      "execution_count": 12,
      "outputs": [
        {
          "output_type": "stream",
          "name": "stdout",
          "text": [
            "Calculadora de média ponderada do IFRN\n",
            "Digite a nota 1(com peso 2):4.6\n",
            "Digite a nota 2(com peso 3):5.8\n",
            "A média ponderada das notas é: 5.32\n",
            "A média ponderada das notas é:  5.319999999999999\n"
          ]
        }
      ]
    }
  ]
}