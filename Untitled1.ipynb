{
  "nbformat": 4,
  "nbformat_minor": 0,
  "metadata": {
    "colab": {
      "provenance": [],
      "authorship_tag": "ABX9TyMcQuwFxnw04YJtuEKYqP1E",
      "include_colab_link": true
    },
    "kernelspec": {
      "name": "python3",
      "display_name": "Python 3"
    },
    "language_info": {
      "name": "python"
    }
  },
  "cells": [
    {
      "cell_type": "markdown",
      "metadata": {
        "id": "view-in-github",
        "colab_type": "text"
      },
      "source": [
        "<a href=\"https://colab.research.google.com/github/eli-dantas/2024-1-algoritmo-e-estrutura-de-dados-elidantas/blob/main/Untitled1.ipynb\" target=\"_parent\"><img src=\"https://colab.research.google.com/assets/colab-badge.svg\" alt=\"Open In Colab\"/></a>"
      ]
    },
    {
      "cell_type": "code",
      "execution_count": 5,
      "metadata": {
        "colab": {
          "base_uri": "https://localhost:8080/"
        },
        "id": "w-stxa70vAoJ",
        "outputId": "277d336d-1576-4ada-ca1e-db54b39abc24"
      },
      "outputs": [
        {
          "output_type": "stream",
          "name": "stdout",
          "text": [
            "insira o nível de cloro da água para verificar se está dentro do padrão aceito\n",
            "Digite o nível de cloro em mg/L: 1\n",
            "Atenção: o nível de cloro está acima do padrão aceitável.\n"
          ]
        }
      ],
      "source": [
        "print(\"insira o nível de cloro da água para verificar se está dentro do padrão aceito\")\n",
        "paradinha = True\n",
        "\n",
        "while paradinha:\n",
        "  nivel_cloro = float(input(\"Digite o nível de cloro em mg/L: \"))\n",
        "  #verificando se o 0.2 > nivel_cloro < 2\n",
        "  if nivel_cloro < 0.2:\n",
        "    print(\"Atenção: o nível de cloro está abaixo do padrão aceitável.\")\n",
        "  elif nivel_cloro > 0.2:\n",
        "     print(\"Atenção: o nível de cloro está acima do padrão aceitável.\")\n",
        "  else:\n",
        "     print(\"O nível de cloro está dentro dos padrões aceitáveis\")\n",
        "  paradinha = False\n"
      ]
    }
  ]
}